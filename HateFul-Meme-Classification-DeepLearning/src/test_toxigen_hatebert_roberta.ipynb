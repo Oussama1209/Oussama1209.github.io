{
 "cells": [
  {
   "cell_type": "code",
   "execution_count": null,
   "metadata": {},
   "outputs": [],
   "source": [
    "from transformers import pipeline\n",
    "\n",
    "toxigen_hatebert = pipeline(\"text-classification\", model=\"tomh/toxigen_hatebert\", tokenizer=\"bert-base-uncased\")\n",
    "toxigen_roberta = pipeline(\"text-classification\", model=\"tomh/toxigen_roberta\", tokenizer=\"tomh/toxigen_roberta\")\n",
    "# print tokenizer\n",
    "# print(toxigen_hatebert.tokenizer)\n",
    "# print(toxigen_roberta.tokenizer)\n",
    "\n",
    "lookup = {\n",
    "    'LABEL_0': 'Non-hateful',\n",
    "    'LABEL_1': 'Hateful'\n",
    "}\n"
   ]
  },
  {
   "cell_type": "code",
   "execution_count": null,
   "metadata": {},
   "outputs": [],
   "source": [
    "phrase = \"I hate you\"\n",
    "phrase = \"the only way to civilize the natives is to give them a bath, a haircut and a pair of shoes.\"\n",
    "phrase = \"I love people who are different from me\"\n",
    "phrase = \"Muslim women are so underprivileged they aren't allowed to fly planes especially when the twins are collapsing from the heat\"\n",
    "phrase = \"a black transgender man, regularly talks need for trans men and women to do a better job of speaking up and organizing\"\n",
    "phrase = \"I like you. I love you\"\n",
    "\n",
    "hatebert_result = toxigen_hatebert(phrase)\n",
    "roberta_result = toxigen_roberta(phrase)\n",
    "\n",
    "print(f\"Phrase: {phrase}\")\n",
    "print(f\"HateBERT: {lookup[hatebert_result[0]['label']]} at {round(hatebert_result[0]['score']*100,1)}%\")\n",
    "print(f\"RoBERTa: {lookup[roberta_result[0]['label']]} at {round(roberta_result[0]['score']*100,1)}%\")"
   ]
  }
 ],
 "metadata": {
  "kernelspec": {
   "display_name": "dl",
   "language": "python",
   "name": "python3"
  },
  "language_info": {
   "codemirror_mode": {
    "name": "ipython",
    "version": 3
   },
   "file_extension": ".py",
   "mimetype": "text/x-python",
   "name": "python",
   "nbconvert_exporter": "python",
   "pygments_lexer": "ipython3",
   "version": "3.11.8"
  }
 },
 "nbformat": 4,
 "nbformat_minor": 2
}
