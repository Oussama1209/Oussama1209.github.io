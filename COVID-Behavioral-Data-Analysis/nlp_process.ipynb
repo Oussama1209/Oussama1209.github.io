{
 "cells": [
  {
   "cell_type": "code",
   "execution_count": 7,
   "metadata": {},
   "outputs": [
    {
     "name": "stderr",
     "output_type": "stream",
     "text": [
      "[nltk_data] Downloading package stopwords to /Users/user/nltk_data...\n",
      "[nltk_data]   Package stopwords is already up-to-date!\n",
      "[nltk_data] Downloading package wordnet to /Users/user/nltk_data...\n"
     ]
    }
   ],
   "source": [
    "import nltk\n",
    "from nltk.corpus import stopwords\n",
    "from nltk.stem.wordnet import WordNetLemmatizer\n",
    "import gensim\n",
    "from gensim import corpora\n",
    "import string\n",
    "\n",
    "nltk.download('stopwords')\n",
    "nltk.download('wordnet')\n",
    "import requests\n",
    "from bs4 import BeautifulSoup\n"
   ]
  },
  {
   "cell_type": "code",
   "execution_count": 6,
   "metadata": {},
   "outputs": [],
   "source": [
    "def get_wikipedia_summary(topic):\n",
    "    try:\n",
    "        url = f\"https://en.wikipedia.org/wiki/{topic.replace('_', ' ')}\"\n",
    "        response = requests.get(url)\n",
    "        soup = BeautifulSoup(response.content, 'html.parser')\n",
    "        summary = soup.find('p').get_text()\n",
    "        return summary\n",
    "    except Exception as e:\n",
    "        return \"Error or no summary available\""
   ]
  },
  {
   "cell_type": "code",
   "execution_count": 9,
   "metadata": {},
   "outputs": [],
   "source": [
    "def preprocess_data(doc_set):\n",
    "    \"\"\"\n",
    "    Perform basic pre-processing of the text data.\n",
    "    \"\"\"\n",
    "    # Preparing the stopwords list\n",
    "    stop = set(stopwords.words('english'))\n",
    "    exclude = set(string.punctuation) \n",
    "    lemma = WordNetLemmatizer()\n",
    "\n",
    "    # Cleaning and preprocessing\n",
    "    def clean(doc):\n",
    "        stop_free = \" \".join([word for word in doc.lower().split() if word not in stop])\n",
    "        punc_free = ''.join(ch for ch in stop_free if ch not in exclude)\n",
    "        normalized = \" \".join(lemma.lemmatize(word) for word in punc_free.split())\n",
    "        return normalized\n",
    "\n",
    "    doc_clean = [clean(doc).split() for doc in doc_set]  \n",
    "    return doc_clean"
   ]
  },
  {
   "cell_type": "code",
   "execution_count": 12,
   "metadata": {},
   "outputs": [],
   "source": [
    "documents = preprocess_data([get_wikipedia_summary('Machine_learning')])"
   ]
  },
  {
   "cell_type": "code",
   "execution_count": 35,
   "metadata": {},
   "outputs": [
    {
     "name": "stdout",
     "output_type": "stream",
     "text": [
      "Topic: 0 \n",
      "Words: 0.035*\"algorithm\" + 0.035*\"perform\" + 0.035*\"approach\" + 0.035*\"study\" + 0.035*\"artificial\" + 0.035*\"machine\" + 0.035*\"learning\" + 0.020*\"email\" + 0.020*\"concerned\" + 0.020*\"needed\"\n",
      "Topic: 1 \n",
      "Words: 0.022*\"machine\" + 0.022*\"learning\" + 0.022*\"approach\" + 0.022*\"study\" + 0.022*\"perform\" + 0.022*\"computer\" + 0.022*\"field\" + 0.022*\"develop\" + 0.022*\"artificial\" + 0.022*\"previous\"\n",
      "Topic: 2 \n",
      "Words: 0.022*\"artificial\" + 0.022*\"learning\" + 0.022*\"study\" + 0.022*\"machine\" + 0.022*\"approach\" + 0.022*\"algorithm\" + 0.022*\"perform\" + 0.022*\"statistical\" + 0.022*\"language\" + 0.022*\"large\"\n"
     ]
    }
   ],
   "source": [
    "\n",
    "# Assume 'documents' is a list of preprocessed text data for each topic\n",
    "dictionary = corpora.Dictionary(documents)\n",
    "corpus = [dictionary.doc2bow(doc) for doc in documents]\n",
    "\n",
    "# LDA model\n",
    "lda_model = gensim.models.ldamodel.LdaModel(corpus, num_topics=3, id2word=dictionary, passes=22)\n",
    "\n",
    "# Viewing the topics\n",
    "for idx, topic in lda_model.print_topics(-1):\n",
    "    print('Topic: {} \\nWords: {}'.format(idx, topic))"
   ]
  }
 ],
 "metadata": {
  "kernelspec": {
   "display_name": "ada",
   "language": "python",
   "name": "python3"
  },
  "language_info": {
   "codemirror_mode": {
    "name": "ipython",
    "version": 3
   },
   "file_extension": ".py",
   "mimetype": "text/x-python",
   "name": "python",
   "nbconvert_exporter": "python",
   "pygments_lexer": "ipython3",
   "version": "3.9.18"
  }
 },
 "nbformat": 4,
 "nbformat_minor": 2
}
